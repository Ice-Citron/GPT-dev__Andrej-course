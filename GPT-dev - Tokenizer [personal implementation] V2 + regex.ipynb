{
  "nbformat": 4,
  "nbformat_minor": 0,
  "metadata": {
    "colab": {
      "provenance": []
    },
    "kernelspec": {
      "name": "python3",
      "display_name": "Python 3"
    },
    "language_info": {
      "name": "python"
    }
  },
  "cells": [
    {
      "cell_type": "code",
      "execution_count": 1,
      "metadata": {
        "colab": {
          "base_uri": "https://localhost:8080/"
        },
        "id": "CUQGwZN0CkB1",
        "outputId": "0bcd3b1a-c051-472b-b45f-8a3c956af50e"
      },
      "outputs": [
        {
          "output_type": "stream",
          "name": "stdout",
          "text": [
            "--2024-07-29 10:34:00--  https://github.com/karpathy/minbpe/blob/master/tests/taylorswift.txt\n",
            "Resolving github.com (github.com)... 140.82.113.4\n",
            "Connecting to github.com (github.com)|140.82.113.4|:443... connected.\n",
            "HTTP request sent, awaiting response... 200 OK\n",
            "Length: unspecified [text/html]\n",
            "Saving to: ‘taylorswift.txt’\n",
            "\n",
            "taylorswift.txt         [ <=>                ] 998.65K  --.-KB/s    in 0.04s   \n",
            "\n",
            "2024-07-29 10:34:00 (22.8 MB/s) - ‘taylorswift.txt’ saved [1022614]\n",
            "\n"
          ]
        }
      ],
      "source": [
        "!wget https://github.com/karpathy/minbpe/blob/master/tests/taylorswift.txt"
      ]
    },
    {
      "cell_type": "code",
      "source": [
        "def get_stats(ids):\n",
        "    counts = {}\n",
        "    for pair in zip(ids, ids[1:]): # Pythonic way to iterate consecutive elements\n",
        "                                          # ids[1:] --> creates a new list that is the original list ids starting from the second element\n",
        "                                          # zip(ids, ids[1:]) --> pairs each element in ids with its subsequent element, forming a tuple.\n",
        "                                              # this loop iterates over each of these pairs\n",
        "        counts[pair] = counts.get(pair, 0) + 1    # returns the valye for the key \"pair\" from dictionary \"counts\" // if not already a key, returns 0 instead (default value) // then increments count of \"pair\" by 1\n",
        "    return counts"
      ],
      "metadata": {
        "id": "KmVruuHHCuwl"
      },
      "execution_count": 2,
      "outputs": []
    },
    {
      "cell_type": "code",
      "source": [
        "def merge(ids, pair, idx): # Defines a function named merge that takes three parameters:\n",
        "                                      # ids (a list of integers), pair (a tuple of two integers to search for in ids), and idx (a new integer that will replace occurrences of pair).\n",
        "  # in the list of ints (ids), replace all consecutive occurences of pair with the new token idx\n",
        "  newids = []\n",
        "  i = 0\n",
        "  while i < len(ids):\n",
        "    # if we are not at the very last position AND the pair matches, replace it\n",
        "    if i < len(ids) - 1 and ids[i] == pair[0] and ids[i+1] == pair[1]:\n",
        "      newids.append(idx)\n",
        "      i += 2\n",
        "    else:\n",
        "      newids.append(ids[i])\n",
        "      i += 1\n",
        "\n",
        "  return newids\n",
        "\n",
        "# print(merge([5, 6, 6, 7, 9, 1], (6, 7), 99))\n",
        "\n",
        "# tokens2 = merge(tokens, top_pair, 256)"
      ],
      "metadata": {
        "id": "dU3I_FVCC2-X"
      },
      "execution_count": 9,
      "outputs": []
    },
    {
      "cell_type": "code",
      "source": [
        "text = \"\"\n",
        "with open('taylorswift.txt', 'r', encoding='utf-8') as f:\n",
        "  text = f.read()\n",
        "tokens = text.encode(\"utf-8\") # raw bytes\n",
        "tokens = list(map(int, tokens)) # convert to a list of integers in range 0..255 for convenience\n",
        "print('---')\n",
        "print(tokens[0:75])\n",
        "print(\"length:\", len(tokens))\n",
        "print(\"max:\"   , max(tokens))"
      ],
      "metadata": {
        "colab": {
          "base_uri": "https://localhost:8080/"
        },
        "id": "zowlyUKQC28a",
        "outputId": "4c06ae47-f0f4-4c81-a598-d607f0b6808c"
      },
      "execution_count": 18,
      "outputs": [
        {
          "output_type": "stream",
          "name": "stdout",
          "text": [
            "---\n",
            "[10, 10, 10, 10, 10, 10, 60, 33, 68, 79, 67, 84, 89, 80, 69, 32, 104, 116, 109, 108, 62, 10, 60, 104, 116, 109, 108, 10, 32, 32, 108, 97, 110, 103, 61, 34, 101, 110, 34, 10, 32, 32, 10, 32, 32, 100, 97, 116, 97, 45, 99, 111, 108, 111, 114, 45, 109, 111, 100, 101, 61, 34, 97, 117, 116, 111, 34, 32, 100, 97, 116, 97, 45, 108, 105]\n",
            "length: 1022614\n",
            "max: 226\n"
          ]
        }
      ]
    },
    {
      "cell_type": "code",
      "source": [
        "def get_stats(ids):\n",
        "    counts = {}\n",
        "    for pair in zip(ids, ids[1:]):\n",
        "        counts[pair] = counts.get(pair, 0) + 1\n",
        "    return counts\n",
        "\n",
        "def merge(ids, pair, idx):\n",
        "  newids = []\n",
        "  i = 0\n",
        "  while i < len(ids):\n",
        "    if i < len(ids) - 1 and ids[i] == pair[0] and ids[i+1] == pair[1]:\n",
        "      newids.append(idx)\n",
        "      i += 2\n",
        "    else:\n",
        "      newids.append(ids[i])\n",
        "      i += 1\n",
        "  return newids\n",
        "\n",
        "# ---\n",
        "vocab_size = 10000 # the target final vocabulary size\n",
        "num_merges = vocab_size - 256\n",
        "ids = list(tokens) # copy so we don't destroy the original list // preservation for comparison\n",
        "\n",
        "merges = {} # (int, int) -> int\n",
        "for i in range(num_merges):\n",
        "  stats = get_stats(ids)           # function retrieves dictionary with pairs of consecutive tokens and their frequencies\n",
        "  pair = max(stats, key=stats.get) # stats.get fetches value assosciated with each key in stats // this helps to determine key with highest value\n",
        "  idx = 256 + i\n",
        "  print(f\"merging {pair} into a new token {idx}\")\n",
        "  ids = merge(ids, pair, idx)      # replaces all occurences of \"pair\" in \"ids\" with new tokens \"idx\"\n",
        "  merges[pair] = idx               # records merge operation in \"mergs\" dictiionary, mapping from pair of tokens to the new token index"
      ],
      "metadata": {
        "colab": {
          "base_uri": "https://localhost:8080/"
        },
        "id": "7MAdmqAmC26e",
        "outputId": "96f46bc8-4e7a-432f-de5f-2a51f49b7234"
      },
      "execution_count": 11,
      "outputs": [
        {
          "output_type": "stream",
          "name": "stdout",
          "text": [
            "merging (61, 34) into a new token 256\n",
            "merging (105, 110) into a new token 257\n",
            "merging (105, 118) into a new token 258\n",
            "merging (101, 114) into a new token 259\n",
            "merging (34, 32) into a new token 260\n",
            "merging (101, 45) into a new token 261\n",
            "merging (111, 110) into a new token 262\n",
            "merging (100, 258) into a new token 263\n",
            "merging (114, 101) into a new token 264\n",
            "merging (97, 116) into a new token 265\n",
            "merging (101, 32) into a new token 266\n",
            "merging (115, 116) into a new token 267\n",
            "merging (99, 116) into a new token 268\n",
            "merging (62, 60) into a new token 269\n",
            "merging (99, 111) into a new token 270\n",
            "merging (32, 32) into a new token 271\n",
            "merging (116, 101) into a new token 272\n",
            "merging (44, 32) into a new token 273\n",
            "merging (108, 257) into a new token 274\n",
            "merging (111, 114) into a new token 275\n"
          ]
        }
      ]
    },
    {
      "cell_type": "code",
      "source": [
        "vocab = {idx: bytes([idx]) for idx in range(256)} # initislises dictionary where key key is an interger randing from 0 to 255 // and corresponding value is a byte array containing that integer.\n",
        "                                                        # this essentially maps each single-byte value to its byte representation. Which is useful for decoding operations becuase it directly translates\n",
        "                                                        # byte values into their respective byte representations.\n",
        "for (p0, p1), idx in merges.items(): # iterates through merges dict which contains mappings of pairs of newly merged token indices\n",
        "    vocab[idx] = vocab[p0] + vocab[p1] # idx is correct. Value was correctly assigned as value during for loop at first!\n",
        "\n",
        "def decode(ids):\n",
        "  # given ids (list of integers), return Python string\n",
        "  tokens = b\"\".join(vocab[idx] for idx in ids) # b\"\" means byte string // this concatenates all the byte array from vocab into a single byte array\n",
        "\n",
        "  text = tokens.decode(\"utf-8\", errors=\"replace\") # Convert Bytes to String: tokens.decode(\"utf-8\", errors=\"replace\") converts the byte array into a string using UTF-8 encoding.\n",
        "                                                          # The errors='replace' parameter ensures that if any bytes cannot be decoded properly, they are replaced with a placeholder character\n",
        "                                                          # (typically �) instead of raising an error.\n",
        "  return text\n",
        "\n",
        "print(decode([128]))"
      ],
      "metadata": {
        "colab": {
          "base_uri": "https://localhost:8080/"
        },
        "id": "gHQXJQORC24X",
        "outputId": "ec62757c-3d82-46e9-85a7-c03efc13adc1"
      },
      "execution_count": 12,
      "outputs": [
        {
          "output_type": "stream",
          "name": "stdout",
          "text": [
            "�\n"
          ]
        }
      ]
    },
    {
      "cell_type": "code",
      "source": [
        "def encode(text):\n",
        "  # given a string, return list of integers (the tokens)\n",
        "  tokens = list(text.encode(\"utf-8\"))\n",
        "  while len(tokens) >= 2: # continues process as long as there's at least 2 tokens in the list.\n",
        "    stats = get_stats(tokens) # previously defined // calculate the frequency of each consecutive pair of tokens in the list\n",
        "    pair = min(stats, key=lambda p: merges.get(p, float(\"inf\"))) # purpose of line is to find pair of tokens \"p\" that is least preferable for merging based on whether are they defined in \"merges\" dictionary\n",
        "                                                                 # if p is not found, basically will return infinity as default value, effectively prioritising it as least desirable. Because infinite value will always\n",
        "                                                                 # be greater than any index.\n",
        "\n",
        "                                                                # further notes:\n",
        "                                                                      # refer to above. but i generally get the consensus. Due to how lambda function works here, p is all pair chars in stats being iterated over.\n",
        "                                                                      # when p is not in merges, infinity value is set making it impossible to be ever chosen\n",
        "                                                                      # on the other hand, if not, then the value inside merges or the merge pair vocab will be returned. The lowest value will always be chosen first\n",
        "                                                                      # which due to how most frequent values are always added first, this means that more frequent values are iterated first etc.\n",
        "\n",
        "                                                                      # REFER TO NOTES ABOVE\n",
        "    if pair not in merges:\n",
        "      break # nothing else can be merged // exits loop when\n",
        "    idx = merges[pair]\n",
        "    tokens = merge(tokens, pair, idx)\n",
        "  return tokens"
      ],
      "metadata": {
        "id": "PtdszJkHCuqc"
      },
      "execution_count": 13,
      "outputs": []
    },
    {
      "cell_type": "code",
      "source": [
        "decode(encode(\"hello world\"))"
      ],
      "metadata": {
        "colab": {
          "base_uri": "https://localhost:8080/",
          "height": 36
        },
        "id": "SaP86zvOCuoU",
        "outputId": "83b9f730-45fe-4692-c0fa-e9a78ca37767"
      },
      "execution_count": 14,
      "outputs": [
        {
          "output_type": "execute_result",
          "data": {
            "text/plain": [
              "'hello world'"
            ],
            "application/vnd.google.colaboratory.intrinsic+json": {
              "type": "string"
            }
          },
          "metadata": {},
          "execution_count": 14
        }
      ]
    },
    {
      "cell_type": "code",
      "source": [
        "print({k: v.decode('utf-8') for k, v in vocab.items() if v[0] <= 0x7F})\n"
      ],
      "metadata": {
        "colab": {
          "base_uri": "https://localhost:8080/"
        },
        "id": "i6YtQ37YCumv",
        "outputId": "ce1754cb-d7ab-4069-c377-5ad0507d2911"
      },
      "execution_count": 25,
      "outputs": [
        {
          "output_type": "stream",
          "name": "stdout",
          "text": [
            "{0: '\\x00', 1: '\\x01', 2: '\\x02', 3: '\\x03', 4: '\\x04', 5: '\\x05', 6: '\\x06', 7: '\\x07', 8: '\\x08', 9: '\\t', 10: '\\n', 11: '\\x0b', 12: '\\x0c', 13: '\\r', 14: '\\x0e', 15: '\\x0f', 16: '\\x10', 17: '\\x11', 18: '\\x12', 19: '\\x13', 20: '\\x14', 21: '\\x15', 22: '\\x16', 23: '\\x17', 24: '\\x18', 25: '\\x19', 26: '\\x1a', 27: '\\x1b', 28: '\\x1c', 29: '\\x1d', 30: '\\x1e', 31: '\\x1f', 32: ' ', 33: '!', 34: '\"', 35: '#', 36: '$', 37: '%', 38: '&', 39: \"'\", 40: '(', 41: ')', 42: '*', 43: '+', 44: ',', 45: '-', 46: '.', 47: '/', 48: '0', 49: '1', 50: '2', 51: '3', 52: '4', 53: '5', 54: '6', 55: '7', 56: '8', 57: '9', 58: ':', 59: ';', 60: '<', 61: '=', 62: '>', 63: '?', 64: '@', 65: 'A', 66: 'B', 67: 'C', 68: 'D', 69: 'E', 70: 'F', 71: 'G', 72: 'H', 73: 'I', 74: 'J', 75: 'K', 76: 'L', 77: 'M', 78: 'N', 79: 'O', 80: 'P', 81: 'Q', 82: 'R', 83: 'S', 84: 'T', 85: 'U', 86: 'V', 87: 'W', 88: 'X', 89: 'Y', 90: 'Z', 91: '[', 92: '\\\\', 93: ']', 94: '^', 95: '_', 96: '`', 97: 'a', 98: 'b', 99: 'c', 100: 'd', 101: 'e', 102: 'f', 103: 'g', 104: 'h', 105: 'i', 106: 'j', 107: 'k', 108: 'l', 109: 'm', 110: 'n', 111: 'o', 112: 'p', 113: 'q', 114: 'r', 115: 's', 116: 't', 117: 'u', 118: 'v', 119: 'w', 120: 'x', 121: 'y', 122: 'z', 123: '{', 124: '|', 125: '}', 126: '~', 127: '\\x7f', 256: '=\"', 257: 'in', 258: 'iv', 259: 'er', 260: '\" ', 261: 'e-', 262: 'on', 263: 'div', 264: 're', 265: 'at', 266: 'e ', 267: 'st', 268: 'ct', 269: '><', 270: 'co', 271: '  ', 272: 'te', 273: ', ', 274: 'lin', 275: 'or'}\n"
          ]
        }
      ]
    },
    {
      "cell_type": "code",
      "source": [],
      "metadata": {
        "id": "LZoO_H76Cukc"
      },
      "execution_count": 8,
      "outputs": []
    },
    {
      "cell_type": "code",
      "source": [],
      "metadata": {
        "id": "8aOe4EFGCuil"
      },
      "execution_count": null,
      "outputs": []
    }
  ]
}