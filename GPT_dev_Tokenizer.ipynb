{
  "nbformat": 4,
  "nbformat_minor": 0,
  "metadata": {
    "colab": {
      "provenance": [],
      "machine_shape": "hm",
      "gpuType": "T4"
    },
    "kernelspec": {
      "name": "python3",
      "display_name": "Python 3"
    },
    "language_info": {
      "name": "python"
    },
    "accelerator": "GPU"
  },
  "cells": [
    {
      "cell_type": "code",
      "execution_count": 1,
      "metadata": {
        "colab": {
          "base_uri": "https://localhost:8080/"
        },
        "id": "7ebBCSJbIHoU",
        "outputId": "4776447b-a8a3-4361-b7e3-5cb99e527bf7"
      },
      "outputs": [
        {
          "output_type": "execute_result",
          "data": {
            "text/plain": [
              "104"
            ]
          },
          "metadata": {},
          "execution_count": 1
        }
      ],
      "source": [
        "[ord(x) for x in \"hello world\"]"
      ]
    },
    {
      "cell_type": "code",
      "source": [
        "list(\"hhh\".encode(\"utf-8\"))"
      ],
      "metadata": {
        "colab": {
          "base_uri": "https://localhost:8080/"
        },
        "id": "l3b6eX3mIPvK",
        "outputId": "6ecdd91d-12b9-4444-fdf2-eff0a6191fe1"
      },
      "execution_count": 3,
      "outputs": [
        {
          "output_type": "execute_result",
          "data": {
            "text/plain": [
              "[104, 104, 104]"
            ]
          },
          "metadata": {},
          "execution_count": 3
        }
      ]
    },
    {
      "cell_type": "code",
      "source": [
        "class BasicTokenizer():\n",
        "\n",
        "  def __init__(self, corpus, do_lower_case=True):\n",
        "    self.do_lower_case = do_lower_case\n",
        "\n"
      ],
      "metadata": {
        "id": "32ngJJ_PIv2E"
      },
      "execution_count": null,
      "outputs": []
    }
  ]
}